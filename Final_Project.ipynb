{
 "cells": [
  {
   "cell_type": "markdown",
   "metadata": {},
   "source": [
    "# College graduate earnings and debt"
   ]
  },
  {
   "cell_type": "markdown",
   "metadata": {},
   "source": [
    "This project utilizes data from https://collegescorecard.ed.gov/data/ -- \n",
    "The data is from all undergraduate degree-seeking institutions in the USA or its territories. Data relating to earnings, debts, and test scores of students can be found here."
   ]
  },
  {
   "cell_type": "code",
   "execution_count": 1,
   "metadata": {},
   "outputs": [],
   "source": [
    "# import all relevant libraries\n",
    "import pandas as pd\n",
    "import warnings\n",
    "import matplotlib.pyplot as plt\n",
    "import numpy as np\n",
    "\n",
    "# ignore warnings that have no effect on code\n",
    "warnings.filterwarnings('ignore')\n",
    "\n",
    "# read an external CSV file into a Pandas Dataframe called 'scdf'\n",
    "scdf = pd.read_csv(\"Most-Recent-Cohorts-Scorecard-Elements.csv\")"
   ]
  },
  {
   "cell_type": "markdown",
   "metadata": {},
   "source": [
    "This initial dataframe is quite large. We are going to create a smaller dataframe using only the columns we need from the 'scdf' dataframe. Once we do that, we will print out the first five rows of the new dataframe."
   ]
  },
  {
   "cell_type": "code",
   "execution_count": 2,
   "metadata": {},
   "outputs": [
    {
     "data": {
      "text/html": [
       "<div>\n",
       "<style scoped>\n",
       "    .dataframe tbody tr th:only-of-type {\n",
       "        vertical-align: middle;\n",
       "    }\n",
       "\n",
       "    .dataframe tbody tr th {\n",
       "        vertical-align: top;\n",
       "    }\n",
       "\n",
       "    .dataframe thead th {\n",
       "        text-align: right;\n",
       "    }\n",
       "</style>\n",
       "<table border=\"1\" class=\"dataframe\">\n",
       "  <thead>\n",
       "    <tr style=\"text-align: right;\">\n",
       "      <th></th>\n",
       "      <th>UNITID</th>\n",
       "      <th>INSTNM</th>\n",
       "      <th>MD_EARN_WNE_P10</th>\n",
       "      <th>GRAD_DEBT_MDN_SUPP</th>\n",
       "      <th>STABBR</th>\n",
       "    </tr>\n",
       "  </thead>\n",
       "  <tbody>\n",
       "    <tr>\n",
       "      <th>0</th>\n",
       "      <td>100654</td>\n",
       "      <td>Alabama A &amp; M University</td>\n",
       "      <td>31000</td>\n",
       "      <td>32750</td>\n",
       "      <td>AL</td>\n",
       "    </tr>\n",
       "    <tr>\n",
       "      <th>1</th>\n",
       "      <td>100663</td>\n",
       "      <td>University of Alabama at Birmingham</td>\n",
       "      <td>41200</td>\n",
       "      <td>21833</td>\n",
       "      <td>AL</td>\n",
       "    </tr>\n",
       "    <tr>\n",
       "      <th>2</th>\n",
       "      <td>100690</td>\n",
       "      <td>Amridge University</td>\n",
       "      <td>39600</td>\n",
       "      <td>22890</td>\n",
       "      <td>AL</td>\n",
       "    </tr>\n",
       "    <tr>\n",
       "      <th>3</th>\n",
       "      <td>100706</td>\n",
       "      <td>University of Alabama in Huntsville</td>\n",
       "      <td>46700</td>\n",
       "      <td>22647</td>\n",
       "      <td>AL</td>\n",
       "    </tr>\n",
       "    <tr>\n",
       "      <th>4</th>\n",
       "      <td>100724</td>\n",
       "      <td>Alabama State University</td>\n",
       "      <td>27700</td>\n",
       "      <td>31500</td>\n",
       "      <td>AL</td>\n",
       "    </tr>\n",
       "  </tbody>\n",
       "</table>\n",
       "</div>"
      ],
      "text/plain": [
       "   UNITID                               INSTNM MD_EARN_WNE_P10  \\\n",
       "0  100654             Alabama A & M University           31000   \n",
       "1  100663  University of Alabama at Birmingham           41200   \n",
       "2  100690                   Amridge University           39600   \n",
       "3  100706  University of Alabama in Huntsville           46700   \n",
       "4  100724             Alabama State University           27700   \n",
       "\n",
       "  GRAD_DEBT_MDN_SUPP STABBR  \n",
       "0              32750     AL  \n",
       "1              21833     AL  \n",
       "2              22890     AL  \n",
       "3              22647     AL  \n",
       "4              31500     AL  "
      ]
     },
     "execution_count": 2,
     "metadata": {},
     "output_type": "execute_result"
    }
   ],
   "source": [
    "school_df = scdf[['UNITID','INSTNM','MD_EARN_WNE_P10', 'GRAD_DEBT_MDN_SUPP', 'STABBR']]\n",
    "school_df.head()"
   ]
  },
  {
   "cell_type": "markdown",
   "metadata": {},
   "source": [
    "Using the data dictionary, we can get a clearer picture of what these variables mean"
   ]
  },
  {
   "cell_type": "markdown",
   "metadata": {},
   "source": [
    "UNITID: This is the unique ID of each school"
   ]
  },
  {
   "cell_type": "markdown",
   "metadata": {},
   "source": [
    "INSTNM: This is the institution's, or school's, name"
   ]
  },
  {
   "cell_type": "markdown",
   "metadata": {},
   "source": [
    "MD_EARN_WNE_P10: This is the median earnings of all students working and not enrolled 10 years after entry to their respective university"
   ]
  },
  {
   "cell_type": "markdown",
   "metadata": {},
   "source": [
    "GRAD_DEBT_MDN_SUPP: This is the median debt of graduates"
   ]
  },
  {
   "cell_type": "markdown",
   "metadata": {},
   "source": [
    "STABBR: This is the state where the college is located"
   ]
  },
  {
   "cell_type": "markdown",
   "metadata": {},
   "source": [
    "We need to clean this new dataframe a little bit."
   ]
  },
  {
   "cell_type": "code",
   "execution_count": 3,
   "metadata": {},
   "outputs": [
    {
     "data": {
      "text/html": [
       "<div>\n",
       "<style scoped>\n",
       "    .dataframe tbody tr th:only-of-type {\n",
       "        vertical-align: middle;\n",
       "    }\n",
       "\n",
       "    .dataframe tbody tr th {\n",
       "        vertical-align: top;\n",
       "    }\n",
       "\n",
       "    .dataframe thead th {\n",
       "        text-align: right;\n",
       "    }\n",
       "</style>\n",
       "<table border=\"1\" class=\"dataframe\">\n",
       "  <thead>\n",
       "    <tr style=\"text-align: right;\">\n",
       "      <th></th>\n",
       "      <th>UNITID</th>\n",
       "      <th>INSTNM</th>\n",
       "      <th>MD_EARN_WNE_P10</th>\n",
       "      <th>GRAD_DEBT_MDN_SUPP</th>\n",
       "      <th>STABBR</th>\n",
       "      <th>EARN_DEBT_RATIO</th>\n",
       "    </tr>\n",
       "  </thead>\n",
       "  <tbody>\n",
       "    <tr>\n",
       "      <th>3859</th>\n",
       "      <td>237880</td>\n",
       "      <td>West Virginia School of Osteopathic Medicine</td>\n",
       "      <td>224300.0</td>\n",
       "      <td>4800.0</td>\n",
       "      <td>WV</td>\n",
       "      <td>46.729167</td>\n",
       "    </tr>\n",
       "    <tr>\n",
       "      <th>3153</th>\n",
       "      <td>215123</td>\n",
       "      <td>Philadelphia College of Osteopathic Medicine</td>\n",
       "      <td>186100.0</td>\n",
       "      <td>5250.0</td>\n",
       "      <td>PA</td>\n",
       "      <td>35.447619</td>\n",
       "    </tr>\n",
       "    <tr>\n",
       "      <th>239</th>\n",
       "      <td>110699</td>\n",
       "      <td>University of California-San Francisco</td>\n",
       "      <td>143700.0</td>\n",
       "      <td>6500.0</td>\n",
       "      <td>CA</td>\n",
       "      <td>22.107692</td>\n",
       "    </tr>\n",
       "    <tr>\n",
       "      <th>973</th>\n",
       "      <td>145558</td>\n",
       "      <td>Rosalind Franklin University of Medicine and S...</td>\n",
       "      <td>132300.0</td>\n",
       "      <td>6000.0</td>\n",
       "      <td>IL</td>\n",
       "      <td>22.050000</td>\n",
       "    </tr>\n",
       "    <tr>\n",
       "      <th>2461</th>\n",
       "      <td>196255</td>\n",
       "      <td>SUNY Downstate Medical Center</td>\n",
       "      <td>127900.0</td>\n",
       "      <td>12500.0</td>\n",
       "      <td>NY</td>\n",
       "      <td>10.232000</td>\n",
       "    </tr>\n",
       "    <tr>\n",
       "      <th>2210</th>\n",
       "      <td>188526</td>\n",
       "      <td>Albany College of Pharmacy and Health Sciences</td>\n",
       "      <td>124700.0</td>\n",
       "      <td>27000.0</td>\n",
       "      <td>NY</td>\n",
       "      <td>4.618519</td>\n",
       "    </tr>\n",
       "    <tr>\n",
       "      <th>1970</th>\n",
       "      <td>179265</td>\n",
       "      <td>St. Louis College of Pharmacy</td>\n",
       "      <td>124100.0</td>\n",
       "      <td>19500.0</td>\n",
       "      <td>MO</td>\n",
       "      <td>6.364103</td>\n",
       "    </tr>\n",
       "    <tr>\n",
       "      <th>70</th>\n",
       "      <td>103778</td>\n",
       "      <td>Thunderbird School of Global Management</td>\n",
       "      <td>118000.0</td>\n",
       "      <td>20000.0</td>\n",
       "      <td>AZ</td>\n",
       "      <td>5.900000</td>\n",
       "    </tr>\n",
       "    <tr>\n",
       "      <th>1591</th>\n",
       "      <td>166656</td>\n",
       "      <td>MCPHS University</td>\n",
       "      <td>116000.0</td>\n",
       "      <td>27000.0</td>\n",
       "      <td>MA</td>\n",
       "      <td>4.296296</td>\n",
       "    </tr>\n",
       "    <tr>\n",
       "      <th>215</th>\n",
       "      <td>110398</td>\n",
       "      <td>University of California-Hastings College of Law</td>\n",
       "      <td>114700.0</td>\n",
       "      <td>3000.0</td>\n",
       "      <td>CA</td>\n",
       "      <td>38.233333</td>\n",
       "    </tr>\n",
       "  </tbody>\n",
       "</table>\n",
       "</div>"
      ],
      "text/plain": [
       "      UNITID                                             INSTNM  \\\n",
       "3859  237880       West Virginia School of Osteopathic Medicine   \n",
       "3153  215123       Philadelphia College of Osteopathic Medicine   \n",
       "239   110699             University of California-San Francisco   \n",
       "973   145558  Rosalind Franklin University of Medicine and S...   \n",
       "2461  196255                      SUNY Downstate Medical Center   \n",
       "2210  188526     Albany College of Pharmacy and Health Sciences   \n",
       "1970  179265                      St. Louis College of Pharmacy   \n",
       "70    103778            Thunderbird School of Global Management   \n",
       "1591  166656                                   MCPHS University   \n",
       "215   110398   University of California-Hastings College of Law   \n",
       "\n",
       "      MD_EARN_WNE_P10  GRAD_DEBT_MDN_SUPP STABBR  EARN_DEBT_RATIO  \n",
       "3859         224300.0              4800.0     WV        46.729167  \n",
       "3153         186100.0              5250.0     PA        35.447619  \n",
       "239          143700.0              6500.0     CA        22.107692  \n",
       "973          132300.0              6000.0     IL        22.050000  \n",
       "2461         127900.0             12500.0     NY        10.232000  \n",
       "2210         124700.0             27000.0     NY         4.618519  \n",
       "1970         124100.0             19500.0     MO         6.364103  \n",
       "70           118000.0             20000.0     AZ         5.900000  \n",
       "1591         116000.0             27000.0     MA         4.296296  \n",
       "215          114700.0              3000.0     CA        38.233333  "
      ]
     },
     "execution_count": 3,
     "metadata": {},
     "output_type": "execute_result"
    }
   ],
   "source": [
    "# Replacing the string 'PrivacySuppressed' with 0\n",
    "school_df['MD_EARN_WNE_P10'] = school_df['MD_EARN_WNE_P10'].replace('PrivacySuppressed', 0)\n",
    "school_df['GRAD_DEBT_MDN_SUPP'] = school_df['GRAD_DEBT_MDN_SUPP'].replace('PrivacySuppressed', 0)\n",
    "# Converting certain values to float\n",
    "school_df['MD_EARN_WNE_P10'] = pd.to_numeric(school_df['MD_EARN_WNE_P10'])\n",
    "school_df['GRAD_DEBT_MDN_SUPP'] = pd.to_numeric(school_df['GRAD_DEBT_MDN_SUPP'])\n",
    "# Removing rows where debt or earnings is 0\n",
    "school_df = school_df[school_df.GRAD_DEBT_MDN_SUPP != 0]\n",
    "school_df = school_df[school_df.MD_EARN_WNE_P10 != 0]\n",
    "# Sorting the dataframe by earnings, decending\n",
    "school_df = school_df.sort_values(['MD_EARN_WNE_P10'], ascending = False)\n",
    "# Creating a ratio of earnings divided by debt\n",
    "school_df['EARN_DEBT_RATIO'] = school_df['MD_EARN_WNE_P10'] / school_df['GRAD_DEBT_MDN_SUPP']\n",
    "# Printing the top 10 schools based on earnings\n",
    "school_df.head(10)"
   ]
  },
  {
   "cell_type": "markdown",
   "metadata": {},
   "source": [
    "We are going to create a graph using MatPlotLib. This graph will show the top 10 colleges based on earnings of graduates 10 years after entering their respective university. "
   ]
  },
  {
   "cell_type": "code",
   "execution_count": 4,
   "metadata": {},
   "outputs": [
    {
     "data": {
      "image/png": "[encoded data removed]",
      "text/plain": [
       "<Figure size 432x288 with 1 Axes>"
      ]
     },
     "metadata": {},
     "output_type": "display_data"
    }
   ],
   "source": [
    "# Selecting values from our dataframe to create x and y axes\n",
    "x = school_df['INSTNM'].iloc[:10]\n",
    "y = school_df['MD_EARN_WNE_P10'].iloc[:10]\n",
    "\n",
    "# Plotting these values in a bar plot\n",
    "plt.bar(x,y, color = 'salmon')\n",
    "plt.xticks(rotation=90)\n",
    "plt.ylabel('Earnings 10 yr after entry in $', fontsize = 14, color = 'salmon')\n",
    "plt.xlabel('\\nCollege or University', fontsize = 14, color = 'salmon')\n",
    "plt.title('Earnings by University/College\\n', fontsize = 20)\n",
    "plt.show()"
   ]
  },
  {
   "cell_type": "markdown",
   "metadata": {},
   "source": [
    "We are now going to find the median earning value for each state"
   ]
  },
  {
   "cell_type": "code",
   "execution_count": 5,
   "metadata": {},
   "outputs": [
    {
     "data": {
      "text/plain": [
       "STABBR\n",
       "AK    37350.0\n",
       "AL    32200.0\n",
       "AR    27600.0\n",
       "AZ    29800.0\n",
       "CA    34800.0\n",
       "Name: MD_EARN_WNE_P10, dtype: float64"
      ]
     },
     "execution_count": 5,
     "metadata": {},
     "output_type": "execute_result"
    }
   ],
   "source": [
    "# Using Pandas groupby function to group by state\n",
    "med = school_df.groupby(['STABBR'])['MD_EARN_WNE_P10'].median()\n",
    "state_med = med.rename_axis('STABBR')\n",
    "state_med.head()"
   ]
  },
  {
   "cell_type": "markdown",
   "metadata": {},
   "source": [
    "We are going to find the median earning from all colleges across the nation"
   ]
  },
  {
   "cell_type": "code",
   "execution_count": 6,
   "metadata": {},
   "outputs": [],
   "source": [
    "a = school_df['MD_EARN_WNE_P10'].dropna()\n",
    "total_med = np.median(a)"
   ]
  },
  {
   "cell_type": "markdown",
   "metadata": {},
   "source": [
    "We are going to create a function that will tell us what the earnings are for students based on state, and compared to the national median. This will help us locate higher performing states, and avoid lower performing states."
   ]
  },
  {
   "cell_type": "code",
   "execution_count": 7,
   "metadata": {},
   "outputs": [],
   "source": [
    "def state(x):\n",
    "    '''\n",
    "    Enter the two letter symbol for a state to search that state.\n",
    "    \n",
    "    This function compares earnings of students in a particular state\n",
    "    to the national median\n",
    "    '''\n",
    "    if any(state_med.index == x):\n",
    "        # Selecting the median value of the desired state\n",
    "        med = state_med.loc[x]\n",
    "        # Calculating the percentage difference from national median\n",
    "        per = round(((med - total_med)/total_med)*100,2)\n",
    "        # Conditional that adds 'higher' or 'lower' to the f-string in the next line\n",
    "        response = \"higher\" if per > 0 else \"lower\"\n",
    "        print(\"The median earnings 10 years after enrolling in a school in that state is\", \n",
    "              \"$\"+str(med)+\"0\", \"which\\nis\", str(per)+\"%\", response, \"than the national median.\")\n",
    "    else:\n",
    "        # If something other than a proper state abbreviation is entered, this statement is printed.\n",
    "        print(\"Please enter a two letter state abbreviation, and be sure to put it in quotes. \"\n",
    "              \"Go ahead, try it again.\")"
   ]
  },
  {
   "cell_type": "markdown",
   "metadata": {},
   "source": [
    "Let's try inputting Alaska into our function"
   ]
  },
  {
   "cell_type": "code",
   "execution_count": 8,
   "metadata": {},
   "outputs": [
    {
     "name": "stdout",
     "output_type": "stream",
     "text": [
      "The median earnings 10 years after enrolling in a school in that state is $37350.00 which\n",
      "is 10.83% higher than the national median.\n"
     ]
    }
   ],
   "source": [
    "state('AK')"
   ]
  },
  {
   "cell_type": "markdown",
   "metadata": {},
   "source": [
    "Great, that worked! Now let's try entering gibberish into the function to see what happens"
   ]
  },
  {
   "cell_type": "code",
   "execution_count": 9,
   "metadata": {},
   "outputs": [
    {
     "name": "stdout",
     "output_type": "stream",
     "text": [
      "Please enter a two letter state abbreviation, and be sure to put it in quotes. Go ahead, try it again.\n"
     ]
    }
   ],
   "source": [
    "state('asdf')"
   ]
  },
  {
   "cell_type": "markdown",
   "metadata": {},
   "source": [
    "That didn't work, which is what we expected. Let's go ahead and try inputting a state that is below the national median."
   ]
  },
  {
   "cell_type": "code",
   "execution_count": 10,
   "metadata": {},
   "outputs": [
    {
     "name": "stdout",
     "output_type": "stream",
     "text": [
      "The median earnings 10 years after enrolling in a school in that state is $29800.00 which\n",
      "is -11.57% lower than the national median.\n"
     ]
    }
   ],
   "source": [
    "state('AZ')"
   ]
  }
 ],
 "metadata": {
  "kernelspec": {
   "display_name": "Python 3",
   "language": "python",
   "name": "python3"
  },
  "language_info": {
   "codemirror_mode": {
    "name": "ipython",
    "version": 3
   },
   "file_extension": ".py",
   "mimetype": "text/x-python",
   "name": "python",
   "nbconvert_exporter": "python",
   "pygments_lexer": "ipython3",
   "version": "3.6.5"
  }
 },
 "nbformat": 4,
 "nbformat_minor": 2
}
