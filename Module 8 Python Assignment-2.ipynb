{
 "cells": [
  {
   "cell_type": "markdown",
   "metadata": {},
   "source": [
    "# MSDS 430 Module 8 Python Assignment"
   ]
  },
  {
   "cell_type": "markdown",
   "metadata": {},
   "source": [
    "#### In this assignment you will complete the following exercises and submit your notebook (ipynb file) to Canvas. Your file should include all output, i.e. run each cell and save your file before submitting."
   ]
  },
  {
   "cell_type": "markdown",
   "metadata": {},
   "source": [
    "<font color=green> Python comes with many useful modules that have already been created. However, it's not uncommon to need to create some of your own for a specific use. In this assignment we begin looking at defining methods that might be useful for a class object. Attaching methods to a class is a convenient way to carry out certain operations or perform tasks. As extra practice, it's recommended that you try to create your own class that you might find useful in your career or for something that interests you. </font>"
   ]
  },
  {
   "cell_type": "markdown",
   "metadata": {},
   "source": [
    "Problem 1 (6 pts.): Using the `Point` class defined in Chapter 16 from your readings in the interactive textbook this week, add a method `reflect_x` to Point which returns a new Point representing the reflection about the x-axis. For example, `Point(3, 5).reflect_x( )` is `(3, -5)`."
   ]
  },
  {
   "cell_type": "code",
   "execution_count": 1,
   "metadata": {},
   "outputs": [
    {
     "data": {
      "text/plain": [
       "'(3, -5)'"
      ]
     },
     "execution_count": 1,
     "metadata": {},
     "output_type": "execute_result"
    }
   ],
   "source": [
    "import math\n",
    "\n",
    "class Point:\n",
    "\n",
    "    def __init__(self, initX, initY):\n",
    "        self.x = initX\n",
    "        self.y = initY\n",
    "\n",
    "    def getX(self):\n",
    "        return self.x\n",
    "\n",
    "    def getY(self):\n",
    "        return self.y\n",
    "    \n",
    "    def __str__(self):\n",
    "        return '(' + str(self.x) + ', ' + str(self.y) + ')'\n",
    "\n",
    "    def distanceFromOrigin(self):\n",
    "        return ((self.x ** 2) + (self.y ** 2)) ** 0.5\n",
    "\n",
    "    def distanceFromPoint(self, otherP):\n",
    "        dx = (otherP.getX() - self.x)\n",
    "        dy = (otherP.getY() - self.y)\n",
    "        return math.sqrt(dy**2 + dx**2)\n",
    "    \n",
    "    def reflect_x(self):\n",
    "        x = self.x\n",
    "        y = self.y - 2*self.y\n",
    "        return '(' + str(x) + ', ' + str(y) + ')'\n",
    "    \n",
    "Point(3,5).reflect_x()"
   ]
  },
  {
   "cell_type": "markdown",
   "metadata": {},
   "source": [
    "Problem 2 (10 pts.): The equation of a line is given by `y = mx + b`. The coefficient `m` describes the slope or steepness of the line and is calculated by taking the difference of the y-values of two points divided by the difference of the x-values. For example, the slope of the line passing through the two points `(4, 11)` and `(6, 15)` is `(15 - 11)/(6 - 4) = 4/2 = 2`. The coefficient `b` is where the line crosses the y-axis and is determined by using either point in the equation `y = mx + b` and solving for `b`. For example, using the point `(4, 11)` and `m = 2`, we have `11 = 2(4) + b` so `b = 3`.\n",
    "\n",
    "Write a method `get_line_to( )` in Point so that if a point instance is given another point, it will compute the equation of the line passing through the two points. It should return the coefficients as a tuple. For example, `print(Point(4, 11).get_line_to(Point(6, 15)))` will return `(2, 3)`. This represents the line `y = 2x + 3`."
   ]
  },
  {
   "cell_type": "code",
   "execution_count": 2,
   "metadata": {},
   "outputs": [],
   "source": [
    "import math\n",
    "\n",
    "class Point:\n",
    "\n",
    "    def __init__(self, initX, initY):\n",
    "        self.x = initX\n",
    "        self.y = initY\n",
    "\n",
    "    def getX(self):\n",
    "        return self.x\n",
    "\n",
    "    def getY(self):\n",
    "        return self.y\n",
    "    \n",
    "    def __str__(self):\n",
    "        return '(' + str(self.x) + ', ' + str(self.y) + ')'\n",
    "\n",
    "    def distanceFromOrigin(self):\n",
    "        return ((self.x ** 2) + (self.y ** 2)) ** 0.5\n",
    "\n",
    "    def distanceFromPoint(self, otherP):\n",
    "        dx = (otherP.getX() - self.x)\n",
    "        dy = (otherP.getY() - self.y)\n",
    "        return math.sqrt(dy**2 + dx**2)\n",
    "    \n",
    "    def get_line_to(self, Point):\n",
    "        try:\n",
    "            slope_y = Point.getY() - self.y\n",
    "            slope_x = Point.getX() - self.x\n",
    "            slope = float(round(slope_y/slope_x,2))\n",
    "            b = float(round(self.y - 2*self.x,2))\n",
    "        except Exception as error:\n",
    "            print('get_line_to Error: ' + str(error) + '\\n')\n",
    "        else:\n",
    "            return tuple([slope, b])"
   ]
  },
  {
   "cell_type": "code",
   "execution_count": 3,
   "metadata": {},
   "outputs": [
    {
     "data": {
      "text/plain": [
       "(2.0, 3.0)"
      ]
     },
     "execution_count": 3,
     "metadata": {},
     "output_type": "execute_result"
    }
   ],
   "source": [
    "Point(4,11).get_line_to(Point(6,15))"
   ]
  },
  {
   "cell_type": "code",
   "execution_count": 4,
   "metadata": {},
   "outputs": [
    {
     "data": {
      "text/plain": [
       "(0.0, 3.0)"
      ]
     },
     "execution_count": 4,
     "metadata": {},
     "output_type": "execute_result"
    }
   ],
   "source": [
    "Point(4,11).get_line_to(Point(6,11))"
   ]
  },
  {
   "cell_type": "code",
   "execution_count": 5,
   "metadata": {},
   "outputs": [
    {
     "name": "stdout",
     "output_type": "stream",
     "text": [
      "get_line_to Error: division by zero\n",
      "\n"
     ]
    }
   ],
   "source": [
    "Point(4,11).get_line_to(Point(4,11))"
   ]
  },
  {
   "cell_type": "markdown",
   "metadata": {},
   "source": [
    "Problem 3 (8 pts): Given the four corners of a rectangle (1, 2), (2, 1), (3, 4), and (4, 3), write a method in `Point` that determines the area of the rectangle."
   ]
  },
  {
   "cell_type": "code",
   "execution_count": 6,
   "metadata": {},
   "outputs": [],
   "source": [
    "import math\n",
    "\n",
    "class Point:\n",
    "\n",
    "    def __init__(self, initX, initY):\n",
    "        self.x = initX\n",
    "        self.y = initY\n",
    "\n",
    "    def getX(self):\n",
    "        return self.x\n",
    "\n",
    "    def getY(self):\n",
    "        return self.y\n",
    "    \n",
    "    def distanceFromPoint(self, otherP):\n",
    "        dx = (otherP.getX() - self.x)\n",
    "        dy = (otherP.getY() - self.y)\n",
    "        return math.sqrt(dy**2 + dx**2)\n",
    "    \n",
    "    def get_area_rectangle(point1, point2, point3, point4):\n",
    "        #Find distance from point1 to point2\n",
    "        dx1 = point2[0] - point1[0]\n",
    "        dy1 = point2[1] - point1[1]\n",
    "        d1 = math.sqrt(dx1**2 + dy1**2)\n",
    "        #Find distance from point1 to point3\n",
    "        dx2 = point3[0] - point1[0]\n",
    "        dy2 = point3[1] - point1[1]\n",
    "        d2 = math.sqrt(dx2**2 + dy2**2)\n",
    "        #Find distance from point1 to point4\n",
    "        dx3 = point4[0] - point1[0]\n",
    "        dy3 = point4[1] - point1[1]\n",
    "        d3 = math.sqrt(dx3**2 + dy3**2)\n",
    "        #sort the three lengths into a list\n",
    "        length = sorted([d1, d2, d3])\n",
    "        #apply some rules of a rectangle to ensure the provided points are the corners of a rectangle\n",
    "        if length[0]**2 + length[1]**2 == length[2]**2 and length[0] != length[1]:\n",
    "            #multiply the two smallest lengths to find the area\n",
    "            area = length[0] * length[1]\n",
    "            print('Considering the points of the four corners of a rectangle, '\n",
    "                  'the area of that rectangle is ' + str(round(area,2)))\n",
    "        else:\n",
    "            print('Error: The four points provided are not the corners of a rectangle')"
   ]
  },
  {
   "cell_type": "code",
   "execution_count": 7,
   "metadata": {},
   "outputs": [
    {
     "name": "stdout",
     "output_type": "stream",
     "text": [
      "Considering the points of the four corners of a rectangle, the area of that rectangle is 4.0\n"
     ]
    }
   ],
   "source": [
    "Point.get_area_rectangle((1, 2), (3, 4), (2, 1), (4, 3))"
   ]
  }
 ],
 "metadata": {
  "kernelspec": {
   "display_name": "Python 3",
   "language": "python",
   "name": "python3"
  },
  "language_info": {
   "codemirror_mode": {
    "name": "ipython",
    "version": 3
   },
   "file_extension": ".py",
   "mimetype": "text/x-python",
   "name": "python",
   "nbconvert_exporter": "python",
   "pygments_lexer": "ipython3",
   "version": "3.6.5"
  }
 },
 "nbformat": 4,
 "nbformat_minor": 2
}
