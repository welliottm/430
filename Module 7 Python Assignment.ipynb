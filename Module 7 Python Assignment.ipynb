{
 "cells": [
  {
   "cell_type": "markdown",
   "metadata": {},
   "source": [
    "# MSDS 430 Module 7 Python Assignment"
   ]
  },
  {
   "cell_type": "markdown",
   "metadata": {},
   "source": [
    "#### In this assignment you will complete the following exercises and submit your notebook (ipynb file) to Canvas. Your file should include all output, i.e. run each cell and save your file before submitting."
   ]
  },
  {
   "cell_type": "markdown",
   "metadata": {},
   "source": [
    "<font color=green> As mentioned in the summary for this module, some of the goals this week are to practice working more extensively with lists and dictionaries. An important technique when working with these objects is to use list comprehensions or dict comprehensions. One reason for using these is to make programs more efficient. Additionally, we're working with techniques for converting, sorting, and grouping data that will be good practice for later in the program and in data science. </font>"
   ]
  },
  {
   "cell_type": "markdown",
   "metadata": {},
   "source": [
    "Problem 1 (4 pts): In a previous assignment you wrote a program that asked a user for two numbers and it returned the sum and product of those two numbers. Add an exception to that program to handle the case of the user accidentally entering a letter for one or both of the numbers."
   ]
  },
  {
   "cell_type": "code",
   "execution_count": 1,
   "metadata": {},
   "outputs": [
    {
     "name": "stdout",
     "output_type": "stream",
     "text": [
      "Enter any number: a\n",
      "\n",
      "*** Error: you entered a character that is not a number\n"
     ]
    }
   ],
   "source": [
    "try:\n",
    "    num = int(input(\"Enter any number: \"))\n",
    "    num2 = int(input(\"Enter a second number: \"))\n",
    "except ValueError:\n",
    "    print(\"\\n*** Error: you entered a character that is not a number\")\n",
    "else:\n",
    "    print(\"The sum of\", num, \"and\", num2, \"is\", (num + num2))\n",
    "    print(\"The product of\", num, \"and\", num2, \"is\", (num * num2))"
   ]
  },
  {
   "cell_type": "markdown",
   "metadata": {},
   "source": [
    "Problem 2 (6 pts.): Using the file `pitching_stats.csv`, read the data and convert it to a list of dictionaries, i.e. each row should be converted to a dictionary with keys `'name'`, `'team'`, `'IP'`, and `'ER'`. Print the list."
   ]
  },
  {
   "cell_type": "code",
   "execution_count": 2,
   "metadata": {},
   "outputs": [
    {
     "data": {
      "text/plain": [
       "[{'name': 'DeGrom, J', 'team': 'NYM', 'IP': '159.0', 'ER': '32'},\n",
       " {'name': 'Sale, C', 'team': 'BOS', 'IP': '146.0', 'ER': '32'},\n",
       " {'name': 'Snell, B', 'team': 'TB', 'IP': '133.0', 'ER': '31'},\n",
       " {'name': 'Scherzer, M', 'team': 'WSH', 'IP': '174.2', 'ER': '41'},\n",
       " {'name': 'Bauer, T', 'team': 'CLE', 'IP': '166.0', 'ER': '41'},\n",
       " {'name': 'Nola, A', 'team': 'PHI', 'IP': '161.0', 'ER': '40'},\n",
       " {'name': 'Verlander, J', 'team': 'HOU', 'IP': '164.1', 'ER': '46'},\n",
       " {'name': 'Kluber, C', 'team': 'CLE', 'IP': '168.0', 'ER': '50'},\n",
       " {'name': 'Cole, G', 'team': 'HOU', 'IP': '159.2', 'ER': '48'},\n",
       " {'name': 'Morton, C', 'team': 'HOU', 'IP': '142.1', 'ER': '45'}]"
      ]
     },
     "execution_count": 2,
     "metadata": {},
     "output_type": "execute_result"
    }
   ],
   "source": [
    "import csv\n",
    "with open('pitching_stats.csv', 'r') as stats_csv:\n",
    "    omit = {\"\\ufeffrank\"}\n",
    "    stats = [{k: str(v) for k, v in row.items() if k not in omit}\n",
    "            for row in csv.DictReader(stats_csv)]\n",
    "        \n",
    "stats"
   ]
  },
  {
   "cell_type": "markdown",
   "metadata": {},
   "source": [
    "Problem 3 (6 pts.): Convert the list in the previous problem to a dictionary using a dict comprehension. Your key should be the pitcher's ERA."
   ]
  },
  {
   "cell_type": "code",
   "execution_count": 3,
   "metadata": {},
   "outputs": [
    {
     "data": {
      "text/plain": [
       "{1.81: {'name': 'DeGrom, J', 'team': 'NYM', 'IP': '159.0', 'ER': '32'},\n",
       " 1.97: {'name': 'Sale, C', 'team': 'BOS', 'IP': '146.0', 'ER': '32'},\n",
       " 2.1: {'name': 'Snell, B', 'team': 'TB', 'IP': '133.0', 'ER': '31'},\n",
       " 2.12: {'name': 'Scherzer, M', 'team': 'WSH', 'IP': '174.2', 'ER': '41'},\n",
       " 2.22: {'name': 'Bauer, T', 'team': 'CLE', 'IP': '166.0', 'ER': '41'},\n",
       " 2.24: {'name': 'Nola, A', 'team': 'PHI', 'IP': '161.0', 'ER': '40'},\n",
       " 2.52: {'name': 'Verlander, J', 'team': 'HOU', 'IP': '164.1', 'ER': '46'},\n",
       " 2.68: {'name': 'Kluber, C', 'team': 'CLE', 'IP': '168.0', 'ER': '50'},\n",
       " 2.71: {'name': 'Cole, G', 'team': 'HOU', 'IP': '159.2', 'ER': '48'},\n",
       " 2.85: {'name': 'Morton, C', 'team': 'HOU', 'IP': '142.1', 'ER': '45'}}"
      ]
     },
     "execution_count": 3,
     "metadata": {},
     "output_type": "execute_result"
    }
   ],
   "source": [
    "ERA = []\n",
    "for row in stats:\n",
    "    ERA.append(round(int(row['ER'])*9/float(row['IP']),2))\n",
    "    \n",
    "stats_dict = {key:value for (key,value) in zip(ERA, stats)}\n",
    "stats_dict"
   ]
  },
  {
   "cell_type": "markdown",
   "metadata": {},
   "source": [
    "Problem 4 (4 pts): Group the list from Problem 1 by team name. "
   ]
  },
  {
   "cell_type": "code",
   "execution_count": 35,
   "metadata": {},
   "outputs": [
    {
     "name": "stdout",
     "output_type": "stream",
     "text": [
      "['BOS', [{'name': 'Sale, C', 'team': 'BOS', 'IP': '146.0', 'ER': '32'}]]\n",
      "['CLE', [{'name': 'Bauer, T', 'team': 'CLE', 'IP': '166.0', 'ER': '41'}, {'name': 'Kluber, C', 'team': 'CLE', 'IP': '168.0', 'ER': '50'}]]\n",
      "['HOU', [{'name': 'Verlander, J', 'team': 'HOU', 'IP': '164.1', 'ER': '46'}, {'name': 'Cole, G', 'team': 'HOU', 'IP': '159.2', 'ER': '48'}, {'name': 'Morton, C', 'team': 'HOU', 'IP': '142.1', 'ER': '45'}]]\n",
      "['NYM', [{'name': 'DeGrom, J', 'team': 'NYM', 'IP': '159.0', 'ER': '32'}]]\n",
      "['PHI', [{'name': 'Nola, A', 'team': 'PHI', 'IP': '161.0', 'ER': '40'}]]\n",
      "['TB', [{'name': 'Snell, B', 'team': 'TB', 'IP': '133.0', 'ER': '31'}]]\n",
      "['WSH', [{'name': 'Scherzer, M', 'team': 'WSH', 'IP': '174.2', 'ER': '41'}]]\n"
     ]
    }
   ],
   "source": [
    "import itertools\n",
    "from operator import itemgetter    \n",
    "\n",
    "stats_team_group = sorted(stats, key=itemgetter('team'))\n",
    "for key, group in itertools.groupby(stats_team_group, key=lambda x:x['team']):\n",
    "    grouping = [key, list(group)]\n",
    "    print(grouping)"
   ]
  },
  {
   "cell_type": "markdown",
   "metadata": {},
   "source": [
    "Problem 5 (4 pts): Sort the data from Problem 1 by team name."
   ]
  },
  {
   "cell_type": "code",
   "execution_count": 9,
   "metadata": {},
   "outputs": [
    {
     "data": {
      "text/plain": [
       "[{'name': 'Sale, C', 'team': 'BOS', 'IP': '146.0', 'ER': '32'},\n",
       " {'name': 'Bauer, T', 'team': 'CLE', 'IP': '166.0', 'ER': '41'},\n",
       " {'name': 'Kluber, C', 'team': 'CLE', 'IP': '168.0', 'ER': '50'},\n",
       " {'name': 'Verlander, J', 'team': 'HOU', 'IP': '164.1', 'ER': '46'},\n",
       " {'name': 'Cole, G', 'team': 'HOU', 'IP': '159.2', 'ER': '48'},\n",
       " {'name': 'Morton, C', 'team': 'HOU', 'IP': '142.1', 'ER': '45'},\n",
       " {'name': 'DeGrom, J', 'team': 'NYM', 'IP': '159.0', 'ER': '32'},\n",
       " {'name': 'Nola, A', 'team': 'PHI', 'IP': '161.0', 'ER': '40'},\n",
       " {'name': 'Snell, B', 'team': 'TB', 'IP': '133.0', 'ER': '31'},\n",
       " {'name': 'Scherzer, M', 'team': 'WSH', 'IP': '174.2', 'ER': '41'}]"
      ]
     },
     "execution_count": 9,
     "metadata": {},
     "output_type": "execute_result"
    }
   ],
   "source": [
    "stats_team_sort = sorted(stats, key=itemgetter('team'))\n",
    "stats_team_sort"
   ]
  }
 ],
 "metadata": {
  "kernelspec": {
   "display_name": "Python 3",
   "language": "python",
   "name": "python3"
  },
  "language_info": {
   "codemirror_mode": {
    "name": "ipython",
    "version": 3
   },
   "file_extension": ".py",
   "mimetype": "text/x-python",
   "name": "python",
   "nbconvert_exporter": "python",
   "pygments_lexer": "ipython3",
   "version": "3.6.5"
  }
 },
 "nbformat": 4,
 "nbformat_minor": 2
}
